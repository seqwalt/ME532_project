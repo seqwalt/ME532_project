{
 "cells": [
  {
   "cell_type": "markdown",
   "metadata": {},
   "source": [
    "# Functions"
   ]
  },
  {
   "cell_type": "markdown",
   "metadata": {},
   "source": [
    "### Algorithms"
   ]
  },
  {
   "cell_type": "code",
   "execution_count": 1,
   "metadata": {},
   "outputs": [],
   "source": [
    "def LASSO( A, d, la_array ):\n",
    "    # Minimize |Ax-d|_2^2 + lambda*|x|_1 (Lasso regression)\n",
    "    # using iterative soft-thresholding with hot-start.\n",
    "    max_iter = 10**4\n",
    "    tol = 10**(-3)\n",
    "    tau = 1/np.linalg.norm(A,2)**2\n",
    "    n = A.shape[1]\n",
    "    num_lam = len(la_array)\n",
    "    W = np.zeros((n, num_lam))\n",
    "    w = np.zeros((n,1))\n",
    "    for i, λ in enumerate(la_array):\n",
    "        for j in range(max_iter):\n",
    "            z = w - tau*(A.T@(A@w-d))\n",
    "            w_old = w\n",
    "            w = np.sign(z) * np.clip(np.abs(z)-tau*λ/2, 0, np.inf)\n",
    "            W[:, i:i+1] = w\n",
    "            if np.linalg.norm(w - w_old) < tol:\n",
    "                break\n",
    "    return W"
   ]
  },
  {
   "cell_type": "code",
   "execution_count": 2,
   "metadata": {},
   "outputs": [],
   "source": [
    "def Ridge( A, d, la_array ):\n",
    "    cols = A.shape[1]\n",
    "    I = np.eye(cols)\n",
    "    W = np.empty((cols,len(la_array)))\n",
    "    for i, λ in enumerate(la_array):\n",
    "        w = np.linalg.inv(A.T@A + λ*I)@A.T@d\n",
    "        w = w[:,0]\n",
    "        W[:,i] = w # each column is a different w\n",
    "    return W"
   ]
  },
  {
   "cell_type": "code",
   "execution_count": 3,
   "metadata": {},
   "outputs": [],
   "source": [
    "def my_SVM( A, d, la_array ):\n",
    "    rows, cols = A.shape\n",
    "    max_iter = 3*10**5\n",
    "    #tol = 0.001\n",
    "    tau = 1/np.linalg.norm(A,2)**2\n",
    "    #tau = 1e-7\n",
    "    tol = 5e-5\n",
    "    num_rand = 1 # number of random points per iteration\n",
    "    W = np.zeros((cols, len(la_array)))\n",
    "    w = np.zeros((cols,1))\n",
    "    i_k = np.arange(rows).reshape(1,-1) # Full GD\n",
    "    for k, λ in enumerate(la_array):\n",
    "        #w = np.zeros((cols,1))\n",
    "        for j in range(max_iter):\n",
    "            #i_k = np.random.randint(0,rows,size=(1,num_rand)).reshape(1,-1) # SGD\n",
    "            dAw = (d[i_k,:]*A[i_k,:]@w).reshape(1,-1)\n",
    "            i_loss = i_k[dAw < 1]\n",
    "            sum_subgrad = np.sum((-d[i_loss]*A[i_loss,:]).T,axis=1).reshape(-1,1)\n",
    "            \n",
    "            grad = sum_subgrad + 2*λ*w\n",
    "            w_old = w\n",
    "            #tau = 1e-4/(j+1)\n",
    "            w = w - tau*grad\n",
    "            w = w[:,0]\n",
    "            if np.linalg.norm(w - w_old) < tol:\n",
    "                break\n",
    "        W[:, k] = w\n",
    "    return W"
   ]
  },
  {
   "cell_type": "code",
   "execution_count": 4,
   "metadata": {},
   "outputs": [],
   "source": [
    "# Train classifier using linear SVM from SK Learn library\n",
    "def SVM( A, d, la_array ):\n",
    "    cols = A.shape[1]\n",
    "    W = np.zeros((cols, len(la_array)))\n",
    "    for k, λ in enumerate(la_array):\n",
    "        clf = LinearSVC( loss='hinge',random_state=0, fit_intercept=True, tol=1e-2, C=1/λ , max_iter=1e5)\n",
    "        clf.fit(A, np.squeeze(d))\n",
    "        w_SVM = clf.coef_.T\n",
    "        W[:,k] = w_SVM[:,0]\n",
    "    return W"
   ]
  },
  {
   "cell_type": "code",
   "execution_count": 5,
   "metadata": {
    "scrolled": false
   },
   "outputs": [],
   "source": [
    "# Neural Network\n",
    "def NN( A_v, A_t, d_t ):\n",
    "    rows, cols = A_t.shape\n",
    "    q = 1 #number of classification problems\n",
    "    M = 400 #number of hidden nodes\n",
    "    d_T = np.zeros(( len(d_t), 1 ))\n",
    "    d_T[ d_t == 1 ] = 1\n",
    "\n",
    "    ## initial weights\n",
    "    V = np.random.randn(M+1, q); \n",
    "    W = np.random.randn(cols, M);\n",
    "\n",
    "    alpha = 0.1 #step size\n",
    "    L = 20 #number of epochs\n",
    "\n",
    "    def logsig(_x):\n",
    "        return 1/(1+np.exp(-_x))\n",
    "\n",
    "    for epoch in range(L):\n",
    "        ind = np.random.permutation(rows)\n",
    "        for i in ind:\n",
    "            # Forward-propagate\n",
    "            H = logsig(np.hstack((np.ones((1,1)), A_t[[i],:]@W)))\n",
    "            Yhat = logsig(H@V)\n",
    "             # Backpropagate\n",
    "            delta = (Yhat-d_T[[i],:])*Yhat*(1-Yhat)\n",
    "            Vnew = V-alpha*H.T@delta\n",
    "            gamma = delta@V[1:,:].T*H[:,1:]*(1-H[:,1:])\n",
    "            Wnew = W - alpha*A_t[[i],:].T@gamma\n",
    "            V = Vnew\n",
    "            W = Wnew\n",
    "        # print(epoch)\n",
    "    # Predicted labels on validation data\n",
    "    H = logsig(np.hstack((np.ones((A_v.shape[0],1)), A_v@W)))\n",
    "    dhat = 2*logsig(H@V)-1 # has +1/-1 range\n",
    "    return dhat"
   ]
  },
  {
   "cell_type": "markdown",
   "metadata": {},
   "source": [
    "### Data Preprocessing"
   ]
  },
  {
   "cell_type": "code",
   "execution_count": 6,
   "metadata": {},
   "outputs": [],
   "source": [
    "# One-hot encoding\n",
    "# col_ind -> list of column values (locations of categorical features) \n",
    "\n",
    "def one_hot( A, col_indices ):\n",
    "    notOneHot = np.delete(A, col_indices, axis=1)\n",
    "    for i, cat_col in enumerate(col_indices):\n",
    "        for j, uniq in enumerate(np.unique(A[:,cat_col])):\n",
    "            hot_col = -1*np.ones((A.shape[0],1))\n",
    "            hot_col[A[:,cat_col] == uniq] = 1\n",
    "            if j == 0:\n",
    "                hot_cols = hot_col\n",
    "            else:\n",
    "                hot_cols = np.hstack((hot_cols,hot_col))\n",
    "        if i == 0:\n",
    "            OneHot = hot_cols\n",
    "        else:\n",
    "            OneHot = np.hstack((OneHot,hot_cols))\n",
    "    A_new = np.hstack((notOneHot,OneHot))\n",
    "    return A_new"
   ]
  },
  {
   "cell_type": "code",
   "execution_count": 7,
   "metadata": {},
   "outputs": [],
   "source": [
    "# Feature Scaling\n",
    "# Normalize the range of the features to -1 and 1\n",
    "def normalize( A ):\n",
    "    ones_col = np.ones((A.shape[0],1))\n",
    "    u = np.mean(A,axis=0).reshape(1,-1)\n",
    "    u_mat = ones_col@u\n",
    "    Au = A - u_mat\n",
    "    std = np.std(A,axis=0).reshape(1,-1)\n",
    "    std_mat = ones_col@std\n",
    "    Asc = Au/std_mat\n",
    "    #ran = (np.max(A,axis=0) - np.min(A,axis=0)).reshape(1,-1)\n",
    "    #ran_mat = ones_col@ran\n",
    "    #Asc = Au/ran_mat\n",
    "    return Asc"
   ]
  },
  {
   "cell_type": "code",
   "execution_count": 8,
   "metadata": {},
   "outputs": [],
   "source": [
    "# Specify training and validation sets\n",
    "def training_validation_sets( A, d, ind, i ):\n",
    "    A_t = np.vstack(( A[int(ind[0]):int(ind[i]),:] , A[int(ind[i+1]):int(ind[-1]),:] )) # training data\n",
    "    A_v = A[int(ind[i]):int(ind[i+1]),:] # validation data\n",
    "    d_t = np.vstack(( d[int(ind[0]):int(ind[i]),:] , d[int(ind[i+1]):int(ind[-1]),:] )) # training labels\n",
    "    d_v = d[int(ind[i]):int(ind[i+1]),:] # validation labels\n",
    "    return [A_t, A_v, d_t, d_v]"
   ]
  },
  {
   "cell_type": "code",
   "execution_count": 9,
   "metadata": {},
   "outputs": [],
   "source": [
    "# --- Holdout Indices --- #\n",
    "# Split the data into 'num_sets' approximately equal sized sets.\n",
    "def holdout_indices( A, num_set ):\n",
    "    rows = A.shape[0]\n",
    "    remainder = rows%num_sets\n",
    "    set_size = (rows-remainder)/num_sets\n",
    "    ind = []\n",
    "    for i in range(num_sets+1):\n",
    "        if i <= num_sets - remainder:\n",
    "            ind = np.append(ind,set_size*i)\n",
    "        else:\n",
    "            ind = np.append(ind,set_size + 1 + ind[-1])\n",
    "    return ind"
   ]
  },
  {
   "cell_type": "code",
   "execution_count": 10,
   "metadata": {},
   "outputs": [],
   "source": [
    "# --- Low rank approximation --- #\n",
    "def low_rank( A, rank ):\n",
    "    Ar = np.zeros((A.shape))\n",
    "    U,s,VT = np.linalg.svd(A,full_matrices=False)\n",
    "    for i in range(rank):\n",
    "        Ui = U[:,i].reshape(-1,1)\n",
    "        VTi = VT[i,:].reshape(1,-1)\n",
    "        Ar = Ar + s[i]*Ui@VTi\n",
    "    U,s,VT = np.linalg.svd(Ar,full_matrices=False)\n",
    "    s = s[np.log10(s) > -1]\n",
    "    return [Ar, s]"
   ]
  },
  {
   "cell_type": "markdown",
   "metadata": {},
   "source": [
    "### Error metrics"
   ]
  },
  {
   "cell_type": "code",
   "execution_count": 11,
   "metadata": {},
   "outputs": [],
   "source": [
    "# Errors\n",
    "def errors( d_pred, d_test ):\n",
    "    ers = np.count_nonzero(np.sign(d_pred) - d_test,axis=0)\n",
    "    return ers"
   ]
  },
  {
   "cell_type": "code",
   "execution_count": 12,
   "metadata": {},
   "outputs": [],
   "source": [
    "# Error Rate\n",
    "def error_rate( d_pred, d_test ):\n",
    "    ers = errors(d_pred,d_test)\n",
    "    err = (1/len(d_test))*ers\n",
    "    return err"
   ]
  },
  {
   "cell_type": "code",
   "execution_count": 13,
   "metadata": {},
   "outputs": [],
   "source": [
    "# Squared Error\n",
    "def squared_error( d_pred, d_test ):\n",
    "    sq_er = np.sum((d_pred - d_test)**2,axis=0)\n",
    "    return sq_er"
   ]
  },
  {
   "cell_type": "code",
   "execution_count": 14,
   "metadata": {},
   "outputs": [],
   "source": [
    "# Error metrics\n",
    "def error_metrics( d_pred, d_test ):\n",
    "    ers = errors( d_pred, d_test )\n",
    "    err = error_rate( d_pred, d_test )\n",
    "    sq_er = squared_error( d_pred, d_test )\n",
    "    return [ers, err, sq_er]"
   ]
  },
  {
   "cell_type": "markdown",
   "metadata": {},
   "source": [
    "### Misc"
   ]
  },
  {
   "cell_type": "code",
   "execution_count": 15,
   "metadata": {},
   "outputs": [],
   "source": [
    "def best_weights( W, A_v, d_v ):\n",
    "    # min weight of weights with most correct classifications\n",
    "    errors = np.count_nonzero(np.sign(A_v@W) - d_v,axis=0)\n",
    "    w_best = W[:,errors == np.min(errors)] # pick column with least num of errors\n",
    "    \n",
    "    w_norms = LA.norm(w_best,axis=0)\n",
    "    w_Best = w_best[:,w_norms == np.min(w_norms)]\n",
    "    w_BEST = w_Best[:,0].reshape(-1,1)\n",
    "    \n",
    "    INDEX = np.argwhere((w_BEST == W))\n",
    "    index = INDEX[0,1]*np.ones((len(w_BEST),1))\n",
    "\n",
    "    return [w_BEST, index]"
   ]
  },
  {
   "cell_type": "markdown",
   "metadata": {},
   "source": [
    "# Load Data"
   ]
  },
  {
   "cell_type": "code",
   "execution_count": 16,
   "metadata": {},
   "outputs": [],
   "source": [
    "import numpy as np\n",
    "from numpy import linalg as LA\n",
    "from sklearn.svm import LinearSVC\n",
    "import matplotlib.pyplot as plt\n",
    "\n",
    "A_d = np.genfromtxt('../data/cardio_disease.csv',delimiter=';',skip_header=1)\n",
    "A = A_d[:,0:11]\n",
    "d = A_d[:,11].reshape(-1,1)\n",
    "d[d == 0] = -1\n",
    "\n",
    "#Feature scaling\n",
    "A = normalize(A)\n",
    "# one-hot encoding for gender, cholesterol, glucose,\n",
    "# smoke, alcohol, physical activity\n",
    "A = one_hot(A,[1,6,7,8,9,10])"
   ]
  },
  {
   "cell_type": "code",
   "execution_count": 195,
   "metadata": {
    "scrolled": true
   },
   "outputs": [
    {
     "data": {
      "image/png": "[encoded data removed]",
      "text/plain": [
       "<Figure size 600x400 with 1 Axes>"
      ]
     },
     "metadata": {
      "needs_background": "light"
     },
     "output_type": "display_data"
    }
   ],
   "source": [
    "# singular values\n",
    "\n",
    "U,s,VT = np.linalg.svd(A,full_matrices=False)\n",
    "fig = plt.figure(figsize=(6,4), dpi= 100)\n",
    "ax = fig.add_subplot(111)\n",
    "ax.plot(np.log10(s),'-o')\n",
    "ax.set_xlabel('Singular value index $i$', fontsize=16)\n",
    "ax.set_ylabel('$\\log_{10}(\\sigma_i)$', fontsize=16)\n",
    "ax.set_title('Singular Values', fontsize=18)\n",
    "plt.show()"
   ]
  },
  {
   "cell_type": "code",
   "execution_count": 210,
   "metadata": {},
   "outputs": [
    {
     "data": {
      "image/png": "[encoded data removed]",
      "text/plain": [
       "<Figure size 600x400 with 1 Axes>"
      ]
     },
     "metadata": {
      "needs_background": "light"
     },
     "output_type": "display_data"
    }
   ],
   "source": [
    "# Low-rank approx of A\n",
    "rank = 14\n",
    "Ar, s = low_rank(A, rank)\n",
    "\n",
    "fig2 = plt.figure(figsize=(6,4), dpi= 100)\n",
    "ax2 = fig2.add_subplot(111)\n",
    "ax2.plot(np.log10(s),'o-')\n",
    "ax2.set_xlabel('Singular value index $i$', fontsize=16)\n",
    "ax2.set_ylabel('$\\log_{10}(\\sigma_i)$', fontsize=16)\n",
    "ax2.set_title('Singular Values', fontsize=18)\n",
    "plt.show()"
   ]
  },
  {
   "cell_type": "code",
   "execution_count": 181,
   "metadata": {
    "scrolled": false
   },
   "outputs": [
    {
     "name": "stdout",
     "output_type": "stream",
     "text": [
      "holdout set:  1\n",
      "holdout set:  2\n",
      "holdout set:  3\n",
      "holdout set:  4\n",
      "holdout set:  5\n",
      "holdout set:  6\n",
      "holdout set:  7\n",
      "holdout set:  8\n",
      "holdout set:  9\n",
      "holdout set:  10\n",
      "Done\n"
     ]
    }
   ],
   "source": [
    "num_class = 4 # number of classifiers\n",
    "num_sets = 10\n",
    "ind = holdout_indices(Ar,num_sets) # holdout indices\n",
    "ERS = np.empty((num_sets,num_class))\n",
    "ERR = np.empty((num_sets,num_class))\n",
    "SQ_ER = np.empty((num_sets,num_class))\n",
    "LAMBDA = np.empty((num_sets,3))\n",
    "\n",
    "#lam_valsRID = np.geomspace(1e-3,1e6,num=100) # logarithmically spaced values\n",
    "#lam_valsLAS = np.geomspace(1e-3,1e6,num=100)\n",
    "#lam_valsSVM = np.geomspace(1e-3,1e3,num=100)\n",
    "lam_valsRID = [8470.50]\n",
    "lam_valsLAS = [419.20]\n",
    "lam_valsSVM = [1.060]\n",
    "\n",
    "for i in range(num_sets):\n",
    "    print('holdout set: ',i+1)\n",
    "    A_T, A_V, d_t, d_v = training_validation_sets(Ar,d,ind,i)\n",
    "    A_t = np.hstack(( np.ones((A_T.shape[0],1)), A_T ))\n",
    "    A_v = np.hstack(( np.ones((A_V.shape[0],1)), A_V ))\n",
    "    # Split validation set into two roughly equal sizes\n",
    "    half = int(np.round(A_v.shape[0]/2))\n",
    "    A_v1 = A_v[0:half,:]; d_v1 = d_v[0:half,:]\n",
    "    A_v2 = A_v[half::,:]; d_v2 = d_v[half::,:];\n",
    "    \n",
    "    # Best weights, and corresponding indices\n",
    "    wR, indR = best_weights( Ridge(A_t,d_t,lam_valsRID),A_v1,d_v1 ) # best Ridge regression weights among lam_vals\n",
    "    wL, indL = best_weights( LASSO(A_t,d_t,lam_valsLAS),A_v1,d_v1 ) # best LASSO weights among lam_vals\n",
    "    wS, indS = best_weights( SVM(A_t,d_t,lam_valsSVM),A_v1,d_v1 ) # best SVM weights among lam_valsSVM\n",
    "    d_predNN = NN(A_v2,A_t,d_t) # Neural network predictions\n",
    "    D_pred = np.hstack(( A_v2@wR, A_v2@wL, A_v2@wS, d_predNN ))\n",
    "\n",
    "    # Error Metric\n",
    "    ers, err, sq_er = error_metrics(D_pred,d_v2)\n",
    "    ERS[i,:] = ers\n",
    "    ERR[i,:] = err\n",
    "    SQ_ER[i,:] = sq_er\n",
    "    \n",
    "    # Best Lambda Values\n",
    "    LAMBDA[i,:] = [lam_valsRID[int(indR[0])], lam_valsLAS[int(indL[0])], lam_valsSVM[int(indS[0])]]\n",
    "print('Done')"
   ]
  },
  {
   "cell_type": "code",
   "execution_count": 183,
   "metadata": {},
   "outputs": [
    {
     "name": "stdout",
     "output_type": "stream",
     "text": [
      "Average squared error:\n",
      "  Ridge:  2669.2107500088186\n",
      "  LASSO:  2665.0553975521716\n",
      "    SVM:  5189.803454532448\n",
      "     NN:  3282.8010674449847\n",
      "\n",
      "Average number of errors:\n",
      "  Ridge:  946.6\n",
      "  LASSO:  945.8\n",
      "    SVM:  942.7\n",
      "     NN:  1042.8\n",
      "\n",
      "Average error rate:\n",
      "  Ridge:  0.27525443442861297\n",
      "  LASSO:  0.2750218086653097\n",
      "    SVM:  0.2741203838325094\n",
      "     NN:  0.3032276824658331\n",
      "\n",
      "Best Average λ:\n",
      "  Ridge:  8470.5\n",
      "  LASSO:  419.19999999999993\n",
      "    SVM:  1.0600000000000003\n"
     ]
    }
   ],
   "source": [
    "avg_ers = np.sum(ERS,axis=0)/num_sets\n",
    "avg_err = np.sum(ERR,axis=0)/num_sets\n",
    "avg_sqr = np.sum(SQ_ER,axis=0)/num_sets\n",
    "lambdas  = np.sum(LAMBDA,axis=0)/num_sets\n",
    "\n",
    "print('Average squared error:')\n",
    "print('  Ridge: ',avg_sqr[0])\n",
    "print('  LASSO: ',avg_sqr[1])\n",
    "print('    SVM: ',avg_sqr[2])\n",
    "print('     NN: ',avg_sqr[3])\n",
    "print()\n",
    "\n",
    "print('Average number of errors:')\n",
    "print('  Ridge: ',avg_ers[0])\n",
    "print('  LASSO: ',avg_ers[1])\n",
    "print('    SVM: ',avg_ers[2])\n",
    "print('     NN: ',avg_ers[3])\n",
    "print()\n",
    "\n",
    "print('Average error rate:')\n",
    "print('  Ridge: ',avg_err[0])\n",
    "print('  LASSO: ',avg_err[1])\n",
    "print('    SVM: ',avg_err[2])\n",
    "print('     NN: ',avg_err[3])\n",
    "print()\n",
    "\n",
    "print('Best Average λ:')\n",
    "print('  Ridge: ',lambdas[0])\n",
    "print('  LASSO: ',lambdas[1])\n",
    "print('    SVM: ',lambdas[2])"
   ]
  }
 ],
 "metadata": {
  "kernelspec": {
   "display_name": "Python 3",
   "language": "python",
   "name": "python3"
  },
  "language_info": {
   "codemirror_mode": {
    "name": "ipython",
    "version": 3
   },
   "file_extension": ".py",
   "mimetype": "text/x-python",
   "name": "python",
   "nbconvert_exporter": "python",
   "pygments_lexer": "ipython3",
   "version": "3.8.2"
  }
 },
 "nbformat": 4,
 "nbformat_minor": 4
}
