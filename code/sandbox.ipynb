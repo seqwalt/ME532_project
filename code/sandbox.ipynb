{
 "cells": [
  {
   "cell_type": "markdown",
   "metadata": {},
   "source": [
    "# Functions"
   ]
  },
  {
   "cell_type": "code",
   "execution_count": 3,
   "metadata": {},
   "outputs": [],
   "source": [
    "def LASSO( A, d, la_array ):\n",
    "    # Minimize |Ax-d|_2^2 + lambda*|x|_1 (Lasso regression)\n",
    "    # using iterative soft-thresholding with hot-start.\n",
    "    max_iter = 10**4\n",
    "    tol = 10**(-3)\n",
    "    tau = 1/np.linalg.norm(A,2)**2\n",
    "    n = A.shape[1]\n",
    "    num_lam = len(la_array)\n",
    "    W = np.zeros((n, num_lam))\n",
    "    w = np.zeros((n,1))\n",
    "    for i, λ in enumerate(la_array):\n",
    "        for j in range(max_iter):\n",
    "            z = w - tau*(A.T@(A@w-d))\n",
    "            w_old = w\n",
    "            w = np.sign(z) * np.clip(np.abs(z)-tau*λ/2, 0, np.inf)\n",
    "            W[:, i:i+1] = w\n",
    "            if np.linalg.norm(w - w_old) < tol:\n",
    "                break\n",
    "    return W"
   ]
  },
  {
   "cell_type": "code",
   "execution_count": 4,
   "metadata": {},
   "outputs": [],
   "source": [
    "def Ridge( A, d, la_array ):\n",
    "    cols = A.shape[1]\n",
    "    I = np.eye(cols)\n",
    "    W = np.empty((cols,len(la_array)))\n",
    "    for i, λ in enumerate(la_array):\n",
    "        w = np.linalg.inv(A.T@A + λ*I)@A.T@d\n",
    "        w = w[:,0]\n",
    "        W[:,i] = w # each column is a different w\n",
    "    return W"
   ]
  },
  {
   "cell_type": "code",
   "execution_count": 17,
   "metadata": {},
   "outputs": [],
   "source": [
    "def SVM( A, d, la_array ):\n",
    "    cols = A.shape[1]\n",
    "    max_iter = 10**4\n",
    "    tol = 10**(-3)\n",
    "    tau = 1/np.linalg.norm(A,2)**2\n",
    "    sum_subgrad = np.zeros((cols,1))\n",
    "    W = np.zeros((cols, len(la_array)))\n",
    "    w = np.zeros((cols,1))\n",
    "    for k, λ in enumerate(la_array):\n",
    "        for j in range(max_iter):\n",
    "            for i in range(cols):\n",
    "                if d[i]*A[i,:]@w < 1:\n",
    "                    sum_subgrad = sum_subgrad - d[i]*A[i,:].T\n",
    "            grad = sum_subgrad + 2*λ*w\n",
    "            w_old = w\n",
    "            w = w - tau*grad\n",
    "            w = w[:,0]\n",
    "            W[:, j] = w\n",
    "            if np.linalg.norm(w - w_old) < tol:\n",
    "                break\n",
    "    return W"
   ]
  },
  {
   "cell_type": "code",
   "execution_count": 44,
   "metadata": {},
   "outputs": [],
   "source": [
    "# Train classifier using linear SVM from SK Learn library\n",
    "def sk_SVM( A, d ):\n",
    "    clf = LinearSVC( loss='hinge',random_state=0, fit_intercept=True, tol=1e-3, max_iter=1e4)\n",
    "    clf.fit(A, np.squeeze(d))\n",
    "    w_SVM = clf.coef_.transpose()\n",
    "    return w_SVM"
   ]
  },
  {
   "cell_type": "code",
   "execution_count": 7,
   "metadata": {},
   "outputs": [],
   "source": [
    "def best_weights( W, A_v, d_v ):\n",
    "    # min weight of weights with most correct classifications\n",
    "    errors = np.count_nonzero(np.sign(A_v@W) - d_v,axis=0)\n",
    "    w_best = W[:,errors == np.min(errors)] # pick column with least num of errors\n",
    "    \n",
    "    w_norms = LA.norm(w_best,axis=0)\n",
    "    w_Best = w_best[:,w_norms == np.min(w_norms)]\n",
    "    w_BEST = w_Best[:,0].reshape(-1,1)\n",
    "    \n",
    "    INDEX = np.argwhere((w_BEST == W))\n",
    "    index = INDEX[0,1]*np.ones((len(w_BEST),1))\n",
    "\n",
    "    return [w_BEST, index]"
   ]
  },
  {
   "cell_type": "code",
   "execution_count": 8,
   "metadata": {},
   "outputs": [],
   "source": [
    "# Specify training and validation sets\n",
    "def training_validation_sets( A, d, ind, i ):\n",
    "    A_t = np.vstack(( A[int(ind[0]):int(ind[i]),:] , A[int(ind[i+1]):int(ind[-1]),:] )) # training data\n",
    "    A_v = A[int(ind[i]):int(ind[i+1]),:] # validation data\n",
    "    d_t = np.vstack(( d[int(ind[0]):int(ind[i]),:] , d[int(ind[i+1]):int(ind[-1]),:] )) # training labels\n",
    "    d_v = d[int(ind[i]):int(ind[i+1]),:] # validation labels\n",
    "    return [A_t, A_v, d_t, d_v]"
   ]
  },
  {
   "cell_type": "code",
   "execution_count": 9,
   "metadata": {},
   "outputs": [],
   "source": [
    "# Errors\n",
    "def errors( w, A_test, d_test ):\n",
    "    ers = np.count_nonzero(np.sign(A_test@w) - d_test,axis=0)\n",
    "    return ers"
   ]
  },
  {
   "cell_type": "code",
   "execution_count": 10,
   "metadata": {},
   "outputs": [],
   "source": [
    "# Error Rate\n",
    "def error_rate( w, A_test, d_test ):\n",
    "    ers = errors(w,A_test,d_test)\n",
    "    err = (1/len(d_test))*ers\n",
    "    return err"
   ]
  },
  {
   "cell_type": "code",
   "execution_count": 11,
   "metadata": {},
   "outputs": [],
   "source": [
    "# Squared Error\n",
    "def squared_error( w, A_test, d_test ):\n",
    "    sq_er = np.sum((A_test@w - d_test)**2,axis=0)\n",
    "    return sq_er"
   ]
  },
  {
   "cell_type": "code",
   "execution_count": 12,
   "metadata": {},
   "outputs": [],
   "source": [
    "# Error metrics\n",
    "def error_metrics( w, A_test, d_test ):\n",
    "    ers = errors( w, A_test, d_test )\n",
    "    err = error_rate( w, A_test, d_test )\n",
    "    sq_er = squared_error( w, A_test, d_test )\n",
    "    return [ers, err, sq_er]"
   ]
  },
  {
   "cell_type": "markdown",
   "metadata": {},
   "source": [
    "# Load Data"
   ]
  },
  {
   "cell_type": "code",
   "execution_count": 31,
   "metadata": {},
   "outputs": [],
   "source": [
    "import numpy as np\n",
    "from numpy import linalg as LA\n",
    "from sklearn.svm import LinearSVC\n",
    "import matplotlib.pyplot as plt\n",
    "\n",
    "Ad = np.genfromtxt('../data/cardio_disease.csv',delimiter=';',skip_header=1)\n",
    "A = Ad[:,0:11]\n",
    "d = Ad[:,11].reshape(-1,1)\n",
    "d[d == 0] = -1"
   ]
  },
  {
   "cell_type": "code",
   "execution_count": 50,
   "metadata": {},
   "outputs": [
    {
     "data": {
      "image/png": "[encoded data removed]",
      "text/plain": [
       "<Figure size 432x288 with 1 Axes>"
      ]
     },
     "metadata": {
      "needs_background": "light"
     },
     "output_type": "display_data"
    }
   ],
   "source": [
    "# singular values\n",
    "\n",
    "U,s,VT = np.linalg.svd(A,full_matrices=False)\n",
    "fig = plt.figure()\n",
    "ax = fig.add_subplot(111)\n",
    "ax.plot(np.log10(s),'.')\n",
    "ax.set_xlabel('Singular value index $i$', fontsize=16)\n",
    "ax.set_ylabel('$\\log_{10}(\\sigma_i)$', fontsize=16)\n",
    "ax.set_title('Singular Values', fontsize=18)\n",
    "plt.show()"
   ]
  },
  {
   "cell_type": "code",
   "execution_count": 33,
   "metadata": {},
   "outputs": [],
   "source": [
    "# 10 subsets\n",
    "rows, cols = A.shape\n",
    "num_sets = 10\n",
    "remainder = rows%num_sets\n",
    "set_size = (rows-remainder)/num_sets\n",
    "ind = []\n",
    "for i in range(num_sets+1):\n",
    "    if i <= num_sets - remainder:\n",
    "        ind = np.append(ind,set_size*i)\n",
    "    else:\n",
    "        ind = np.append(ind,set_size + 1 + ind[-1])"
   ]
  },
  {
   "cell_type": "code",
   "execution_count": 47,
   "metadata": {},
   "outputs": [],
   "source": [
    "num_class = 3\n",
    "ERS = np.empty((num_sets,num_class))\n",
    "ERR = np.empty((num_sets,num_class))\n",
    "SQ_ER = np.empty((num_sets,num_class))\n",
    "LAMBDA = np.empty((num_sets,num_class))\n",
    "\n",
    "lam_vals = np.geomspace(1e-3,1e150,num=100) # logarithmically spaced values\n",
    "lam_valsSVM = np.geomspace(1e-15,2,num=20)-1e-15\n",
    "\n",
    "for i in range(num_sets):\n",
    "    A_t, A_v, d_t, d_v = training_validation_sets(A,d,ind,i)\n",
    "    A_t = np.hstack(( A_t, np.ones((A_t.shape[0],1)) ))\n",
    "    A_v = np.hstack(( A_v, np.ones((A_v.shape[0],1)) ))\n",
    "\n",
    "    # Best weights, and corresponding indices\n",
    "    wR, indR = best_weights( Ridge(A_t,d_t,lam_vals),A_v,d_v ) # best Ridge regression weights among lam_vals\n",
    "    wL, indL = best_weights( LASSO(A_t,d_t,lam_vals),A_v,d_v ) # best LASSO weights among lam_vals\n",
    "    wS, indS = best_weights( SVM(A_t,d_t,lam_valsSVM),A_v,d_v ) # best SVM weights among lam_vals\n",
    "    W_all = np.hstack((wR,wL,wS))\n",
    "\n",
    "    # Error Metric\n",
    "    ers, err, sq_er = error_metrics(W_all,A_v,d_v)\n",
    "    ERS[i,:] = ers\n",
    "    ERR[i,:] = err\n",
    "    SQ_ER[i,:] = sq_er\n",
    "    \n",
    "    # Best Lambda Values\n",
    "    LAMBDA[i,:] = [lam_vals[int(indR[0])], lam_vals[int(indL[0])], lam_valsSVM[int(indS[0])]]\n",
    "    #LAMBDA[i,:] = [lam_vals[int(indR[0])], lam_vals[int(indL[0])], 0]"
   ]
  },
  {
   "cell_type": "code",
   "execution_count": 48,
   "metadata": {},
   "outputs": [
    {
     "name": "stdout",
     "output_type": "stream",
     "text": [
      "Average squared error:\n",
      "  Ridge:  5322.107383365608\n",
      "  LASSO:  6854.84026823334\n",
      "    SVM:  6880.68355396275\n",
      "\n",
      "Average number of errors:\n",
      "  Ridge:  1886.1\n",
      "  LASSO:  2269.0\n",
      "    SVM:  3404.1\n",
      "\n",
      "Average error rate:\n",
      "  Ridge:  0.2742101526401558\n",
      "  LASSO:  0.329878338568808\n",
      "    SVM:  0.49490423948955903\n",
      "\n",
      "Best Average λ:\n",
      "  Ridge:  22.26022977513634\n",
      "  LASSO:  1873817.4228603872\n",
      "    SVM:  0.0\n"
     ]
    }
   ],
   "source": [
    "avg_ers = np.sum(ERS,axis=0)/num_sets\n",
    "avg_err = np.sum(ERR,axis=0)/num_sets\n",
    "avg_sqr = np.sum(SQ_ER,axis=0)/num_sets\n",
    "lambdas  = np.sum(LAMBDA,axis=0)/num_sets\n",
    "\n",
    "print('Average squared error:')\n",
    "print('  Ridge: ',avg_sqr[0])\n",
    "print('  LASSO: ',avg_sqr[1])\n",
    "print('    SVM: ',avg_sqr[2])\n",
    "print()\n",
    "\n",
    "print('Average number of errors:')\n",
    "print('  Ridge: ',avg_ers[0])\n",
    "print('  LASSO: ',avg_ers[1])\n",
    "print('    SVM: ',avg_ers[2])\n",
    "print()\n",
    "\n",
    "print('Average error rate:')\n",
    "print('  Ridge: ',avg_err[0])\n",
    "print('  LASSO: ',avg_err[1])\n",
    "print('    SVM: ',avg_err[2])\n",
    "print()\n",
    "\n",
    "print('Best Average λ:')\n",
    "print('  Ridge: ',lambdas[0])\n",
    "print('  LASSO: ',lambdas[1])\n",
    "print('    SVM: ',lambdas[2])"
   ]
  },
  {
   "cell_type": "code",
   "execution_count": null,
   "metadata": {},
   "outputs": [],
   "source": []
  }
 ],
 "metadata": {
  "kernelspec": {
   "display_name": "Python 3",
   "language": "python",
   "name": "python3"
  },
  "language_info": {
   "codemirror_mode": {
    "name": "ipython",
    "version": 3
   },
   "file_extension": ".py",
   "mimetype": "text/x-python",
   "name": "python",
   "nbconvert_exporter": "python",
   "pygments_lexer": "ipython3",
   "version": "3.8.2"
  }
 },
 "nbformat": 4,
 "nbformat_minor": 4
}
